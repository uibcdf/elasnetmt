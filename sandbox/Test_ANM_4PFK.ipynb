{
 "cells": [
  {
   "cell_type": "markdown",
   "id": "c23af330-9d57-4d84-ad80-4155b2cc24bd",
   "metadata": {},
   "source": [
    "# Test ANM 4PFK"
   ]
  },
  {
   "cell_type": "code",
   "execution_count": 2,
   "id": "aca2834e-f8f2-4521-a617-da27dc4f4972",
   "metadata": {},
   "outputs": [
    {
     "data": {
      "application/vnd.jupyter.widget-view+json": {
       "model_id": "9bb13d1ab04441e782b40ded2acc791a",
       "version_major": 2,
       "version_minor": 0
      },
      "text/plain": []
     },
     "metadata": {},
     "output_type": "display_data"
    },
    {
     "name": "stderr",
     "output_type": "stream",
     "text": [
      "/home/diego/Myopt/miniconda3/envs/enmt@uibcdf_3.12/lib/python3.12/site-packages/nglview/__init__.py:12: UserWarning: pkg_resources is deprecated as an API. See https://setuptools.pypa.io/en/latest/pkg_resources.html. The pkg_resources package is slated for removal as early as 2025-11-30. Refrain from using this package or pin to Setuptools<81.\n",
      "  import pkg_resources\n"
     ]
    }
   ],
   "source": [
    "import molsysmt as msm\n",
    "import elasnetmt as enm"
   ]
  },
  {
   "cell_type": "code",
   "execution_count": 3,
   "id": "14c96829-efbc-48b2-b1bd-6ecd8e76855c",
   "metadata": {},
   "outputs": [],
   "source": [
    "molecular_system = msm.convert('4PFK')"
   ]
  },
  {
   "cell_type": "code",
   "execution_count": 4,
   "id": "82b921b8-8a28-46f5-b2ba-451ac4a6cd6a",
   "metadata": {},
   "outputs": [
    {
     "name": "stdout",
     "output_type": "stream",
     "text": [
      "The atom_name MG was not recognized\n",
      "The atom_name PB was not recognized\n",
      "The atom_name O1B was not recognized\n",
      "The atom_name O2B was not recognized\n",
      "The atom_name O3B was not recognized\n",
      "The atom_name PA was not recognized\n",
      "The atom_name O3A was not recognized\n",
      "The atom_name O5' was not recognized\n",
      "The atom_name C5' was not recognized\n",
      "The atom_name C4' was not recognized\n",
      "The atom_name O4' was not recognized\n",
      "The atom_name C3' was not recognized\n",
      "The atom_name O3' was not recognized\n",
      "The atom_name C2' was not recognized\n",
      "The atom_name O2' was not recognized\n",
      "The atom_name C1' was not recognized\n",
      "The atom_name N9 was not recognized\n",
      "The atom_name N7 was not recognized\n",
      "The atom_name N6 was not recognized\n",
      "The atom_name N3 was not recognized\n",
      "ADP ['PB', 'O1B', 'O2B', 'O3B', 'PA', 'O1A', 'O2A', 'O3A', \"O5'\", \"C5'\", \"C4'\", \"O4'\", \"C3'\", \"O3'\", \"C2'\", \"O2'\", \"C1'\", 'N9', 'C8', 'N7', 'C5', 'C6', 'N6', 'N1', 'C2', 'N3', 'C4']\n"
     ]
    },
    {
     "ename": "ValueError",
     "evalue": "",
     "output_type": "error",
     "traceback": [
      "\u001b[31m---------------------------------------------------------------------------\u001b[39m",
      "\u001b[31mValueError\u001b[39m                                Traceback (most recent call last)",
      "\u001b[36mCell\u001b[39m\u001b[36m \u001b[39m\u001b[32mIn[4]\u001b[39m\u001b[32m, line 1\u001b[39m\n\u001b[32m----> \u001b[39m\u001b[32m1\u001b[39m view = \u001b[43mmsm\u001b[49m\u001b[43m.\u001b[49m\u001b[43mview\u001b[49m\u001b[43m(\u001b[49m\u001b[43mmolecular_system\u001b[49m\u001b[43m)\u001b[49m\n",
      "\u001b[36mFile \u001b[39m\u001b[32m~/Myopt/miniconda3/envs/enmt@uibcdf_3.12/lib/python3.12/site-packages/molsysmt/_private/digestion/digest.py:122\u001b[39m, in \u001b[36mdigest.<locals>.digestor.<locals>.wrapper\u001b[39m\u001b[34m(*args, **kwargs)\u001b[39m\n\u001b[32m    120\u001b[39m     \u001b[38;5;28;01mreturn\u001b[39;00m func(all_args[\u001b[33m'\u001b[39m\u001b[33mself\u001b[39m\u001b[33m'\u001b[39m], **final_args)\n\u001b[32m    121\u001b[39m \u001b[38;5;28;01melse\u001b[39;00m:\n\u001b[32m--> \u001b[39m\u001b[32m122\u001b[39m     \u001b[38;5;28;01mreturn\u001b[39;00m \u001b[43mfunc\u001b[49m\u001b[43m(\u001b[49m\u001b[43m*\u001b[49m\u001b[43m*\u001b[49m\u001b[43mfinal_args\u001b[49m\u001b[43m)\u001b[49m\n",
      "\u001b[36mFile \u001b[39m\u001b[32m~/Myopt/miniconda3/envs/enmt@uibcdf_3.12/lib/python3.12/site-packages/molsysmt/basic/view.py:113\u001b[39m, in \u001b[36mview\u001b[39m\u001b[34m(molecular_system, selection, structure_indices, standard, with_water_as, with_ions_as, viewer, syntax, skip_digestion)\u001b[39m\n\u001b[32m    111\u001b[39m     \u001b[38;5;28;01mif\u001b[39;00m viewer==\u001b[33m'\u001b[39m\u001b[33mNGLView\u001b[39m\u001b[33m'\u001b[39m:\n\u001b[32m    112\u001b[39m         \u001b[38;5;28;01mfrom\u001b[39;00m\u001b[38;5;250m \u001b[39m\u001b[34;01mmolsysmt\u001b[39;00m\u001b[34;01m.\u001b[39;00m\u001b[34;01mthirds\u001b[39;00m\u001b[34;01m.\u001b[39;00m\u001b[34;01mnglview\u001b[39;00m\u001b[38;5;250m \u001b[39m\u001b[38;5;28;01mimport\u001b[39;00m standardize_view\n\u001b[32m--> \u001b[39m\u001b[32m113\u001b[39m         \u001b[43mstandardize_view\u001b[49m\u001b[43m(\u001b[49m\u001b[43mtmp_item\u001b[49m\u001b[43m)\u001b[49m\n\u001b[32m    115\u001b[39m \u001b[38;5;28;01mif\u001b[39;00m with_water_as \u001b[38;5;129;01mis\u001b[39;00m \u001b[38;5;129;01mnot\u001b[39;00m \u001b[38;5;28;01mNone\u001b[39;00m:\n\u001b[32m    117\u001b[39m     \u001b[38;5;28;01mif\u001b[39;00m with_water_as == \u001b[33m'\u001b[39m\u001b[33msurface\u001b[39m\u001b[33m'\u001b[39m:\n",
      "\u001b[36mFile \u001b[39m\u001b[32m~/Myopt/miniconda3/envs/enmt@uibcdf_3.12/lib/python3.12/site-packages/molsysmt/_private/digestion/digest.py:122\u001b[39m, in \u001b[36mdigest.<locals>.digestor.<locals>.wrapper\u001b[39m\u001b[34m(*args, **kwargs)\u001b[39m\n\u001b[32m    120\u001b[39m     \u001b[38;5;28;01mreturn\u001b[39;00m func(all_args[\u001b[33m'\u001b[39m\u001b[33mself\u001b[39m\u001b[33m'\u001b[39m], **final_args)\n\u001b[32m    121\u001b[39m \u001b[38;5;28;01melse\u001b[39;00m:\n\u001b[32m--> \u001b[39m\u001b[32m122\u001b[39m     \u001b[38;5;28;01mreturn\u001b[39;00m \u001b[43mfunc\u001b[49m\u001b[43m(\u001b[49m\u001b[43m*\u001b[49m\u001b[43m*\u001b[49m\u001b[43mfinal_args\u001b[49m\u001b[43m)\u001b[49m\n",
      "\u001b[36mFile \u001b[39m\u001b[32m~/Myopt/miniconda3/envs/enmt@uibcdf_3.12/lib/python3.12/site-packages/molsysmt/thirds/nglview/standardize_view.py:19\u001b[39m, in \u001b[36mstandardize_view\u001b[39m\u001b[34m(view, atom_indices, structure_indices)\u001b[39m\n\u001b[32m     16\u001b[39m \u001b[38;5;28;01melse\u001b[39;00m:\n\u001b[32m     17\u001b[39m     string_atom_indices = \u001b[33m'\u001b[39m\u001b[33mall\u001b[39m\u001b[33m'\u001b[39m\n\u001b[32m---> \u001b[39m\u001b[32m19\u001b[39m tmp_topology = \u001b[43mconvert\u001b[49m\u001b[43m(\u001b[49m\u001b[43mview\u001b[49m\u001b[43m,\u001b[49m\u001b[43m \u001b[49m\u001b[43mto_form\u001b[49m\u001b[43m=\u001b[49m\u001b[33;43m'\u001b[39;49m\u001b[33;43mmolsysmt.Topology\u001b[39;49m\u001b[33;43m'\u001b[39;49m\u001b[43m)\u001b[49m\n\u001b[32m     21\u001b[39m mask_string = \u001b[33m'\u001b[39m\u001b[33m'\u001b[39m\n\u001b[32m     22\u001b[39m \u001b[38;5;28;01mif\u001b[39;00m \u001b[38;5;129;01mnot\u001b[39;00m is_all(atom_indices):\n",
      "\u001b[36mFile \u001b[39m\u001b[32m~/Myopt/miniconda3/envs/enmt@uibcdf_3.12/lib/python3.12/site-packages/molsysmt/_private/digestion/digest.py:122\u001b[39m, in \u001b[36mdigest.<locals>.digestor.<locals>.wrapper\u001b[39m\u001b[34m(*args, **kwargs)\u001b[39m\n\u001b[32m    120\u001b[39m     \u001b[38;5;28;01mreturn\u001b[39;00m func(all_args[\u001b[33m'\u001b[39m\u001b[33mself\u001b[39m\u001b[33m'\u001b[39m], **final_args)\n\u001b[32m    121\u001b[39m \u001b[38;5;28;01melse\u001b[39;00m:\n\u001b[32m--> \u001b[39m\u001b[32m122\u001b[39m     \u001b[38;5;28;01mreturn\u001b[39;00m \u001b[43mfunc\u001b[49m\u001b[43m(\u001b[49m\u001b[43m*\u001b[49m\u001b[43m*\u001b[49m\u001b[43mfinal_args\u001b[49m\u001b[43m)\u001b[49m\n",
      "\u001b[36mFile \u001b[39m\u001b[32m~/Myopt/miniconda3/envs/enmt@uibcdf_3.12/lib/python3.12/site-packages/molsysmt/basic/convert.py:515\u001b[39m, in \u001b[36mconvert\u001b[39m\u001b[34m(molecular_system, to_form, selection, structure_indices, syntax, skip_digestion, **kwargs)\u001b[39m\n\u001b[32m    513\u001b[39m \u001b[38;5;66;03m# If one to one\u001b[39;00m\n\u001b[32m    514\u001b[39m \u001b[38;5;28;01mif\u001b[39;00m \u001b[38;5;129;01mnot\u001b[39;00m \u001b[38;5;28misinstance\u001b[39m(from_form, (\u001b[38;5;28mlist\u001b[39m, \u001b[38;5;28mtuple\u001b[39m)):\n\u001b[32m--> \u001b[39m\u001b[32m515\u001b[39m     output = \u001b[43m_convert_one_to_one\u001b[49m\u001b[43m(\u001b[49m\u001b[43mmolecular_system\u001b[49m\u001b[43m,\u001b[49m\u001b[43m \u001b[49m\u001b[43mfrom_form\u001b[49m\u001b[43m,\u001b[49m\u001b[43m \u001b[49m\u001b[43mto_form\u001b[49m\u001b[43m=\u001b[49m\u001b[43mto_form\u001b[49m\u001b[43m,\u001b[49m\u001b[43m \u001b[49m\u001b[43mselection\u001b[49m\u001b[43m=\u001b[49m\u001b[43mselection\u001b[49m\u001b[43m,\u001b[49m\u001b[43m \u001b[49m\u001b[43mstructure_indices\u001b[49m\u001b[43m=\u001b[49m\u001b[43mstructure_indices\u001b[49m\u001b[43m,\u001b[49m\n\u001b[32m    516\u001b[39m \u001b[43m            \u001b[49m\u001b[43msyntax\u001b[49m\u001b[43m=\u001b[49m\u001b[43msyntax\u001b[49m\u001b[43m,\u001b[49m\u001b[43m \u001b[49m\u001b[43mskip_digestion\u001b[49m\u001b[43m=\u001b[49m\u001b[38;5;28;43;01mTrue\u001b[39;49;00m\u001b[43m,\u001b[49m\u001b[43m \u001b[49m\u001b[43m*\u001b[49m\u001b[43m*\u001b[49m\u001b[43mkwargs\u001b[49m\u001b[43m)\u001b[49m\n\u001b[32m    518\u001b[39m \u001b[38;5;66;03m# If multiple to one\u001b[39;00m\n\u001b[32m    519\u001b[39m \n\u001b[32m    520\u001b[39m \u001b[38;5;28;01melse\u001b[39;00m:\n\u001b[32m    521\u001b[39m \n\u001b[32m    522\u001b[39m     \u001b[38;5;66;03m# conversions in private shortcuts\u001b[39;00m\n\u001b[32m    523\u001b[39m     \u001b[38;5;28;01mif\u001b[39;00m \u001b[38;5;28mtuple\u001b[39m(\u001b[38;5;28msorted\u001b[39m(from_form)) \u001b[38;5;129;01min\u001b[39;00m _multiple_conversion_shortcuts:\n",
      "\u001b[36mFile \u001b[39m\u001b[32m~/Myopt/miniconda3/envs/enmt@uibcdf_3.12/lib/python3.12/site-packages/molsysmt/basic/convert.py:93\u001b[39m, in \u001b[36m_convert_one_to_one\u001b[39m\u001b[34m(molecular_system, from_form, to_form, selection, structure_indices, syntax, **kwargs)\u001b[39m\n\u001b[32m     90\u001b[39m         \u001b[38;5;28;01mif\u001b[39;00m \u001b[38;5;28mlen\u001b[39m(missing_arguments)>\u001b[32m0\u001b[39m:\n\u001b[32m     91\u001b[39m             \u001b[38;5;28;01mraise\u001b[39;00m NotCompatibleConversionError(from_form, to_form, missing_arguments)\n\u001b[32m---> \u001b[39m\u001b[32m93\u001b[39m     output = \u001b[43mfunction\u001b[49m\u001b[43m(\u001b[49m\u001b[43mmolecular_system\u001b[49m\u001b[43m,\u001b[49m\u001b[43m \u001b[49m\u001b[43m*\u001b[49m\u001b[43m*\u001b[49m\u001b[43mconversion_arguments\u001b[49m\u001b[43m,\u001b[49m\u001b[43m \u001b[49m\u001b[43m*\u001b[49m\u001b[43m*\u001b[49m\u001b[43mkwargs\u001b[49m\u001b[43m)\u001b[49m\n\u001b[32m     95\u001b[39m \u001b[38;5;28;01melif\u001b[39;00m (\u001b[33m'\u001b[39m\u001b[33mmolsysmt.MolSys\u001b[39m\u001b[33m'\u001b[39m \u001b[38;5;129;01min\u001b[39;00m _dict_modules[from_form]._convert_to) \u001b[38;5;129;01mand\u001b[39;00m (to_form \u001b[38;5;129;01min\u001b[39;00m _dict_modules[\u001b[33m'\u001b[39m\u001b[33mmolsysmt.MolSys\u001b[39m\u001b[33m'\u001b[39m]._convert_to):\n\u001b[32m     97\u001b[39m     output = _convert_one_to_one(molecular_system, from_form, to_form=\u001b[33m'\u001b[39m\u001b[33mmolsysmt.MolSys\u001b[39m\u001b[33m'\u001b[39m, selection=selection,\n\u001b[32m     98\u001b[39m             structure_indices=structure_indices, syntax=syntax, **kwargs)\n",
      "\u001b[36mFile \u001b[39m\u001b[32m~/Myopt/miniconda3/envs/enmt@uibcdf_3.12/lib/python3.12/site-packages/molsysmt/_private/digestion/digest.py:52\u001b[39m, in \u001b[36mdigest.<locals>.digestor.<locals>.wrapper\u001b[39m\u001b[34m(*args, **kwargs)\u001b[39m\n\u001b[32m     48\u001b[39m \u001b[38;5;129m@functools\u001b[39m.wraps(func)\n\u001b[32m     49\u001b[39m \u001b[38;5;28;01mdef\u001b[39;00m\u001b[38;5;250m \u001b[39m\u001b[34mwrapper\u001b[39m(*args, **kwargs):\n\u001b[32m     51\u001b[39m     \u001b[38;5;28;01mif\u001b[39;00m kwargs.get(\u001b[33m'\u001b[39m\u001b[33mskip_digestion\u001b[39m\u001b[33m'\u001b[39m, \u001b[38;5;28;01mFalse\u001b[39;00m):\n\u001b[32m---> \u001b[39m\u001b[32m52\u001b[39m         \u001b[38;5;28;01mreturn\u001b[39;00m \u001b[43mfunc\u001b[49m\u001b[43m(\u001b[49m\u001b[43m*\u001b[49m\u001b[43margs\u001b[49m\u001b[43m,\u001b[49m\u001b[43m \u001b[49m\u001b[43m*\u001b[49m\u001b[43m*\u001b[49m\u001b[43mkwargs\u001b[49m\u001b[43m)\u001b[49m\n\u001b[32m     54\u001b[39m     \u001b[38;5;66;03m# Define caller\u001b[39;00m\n\u001b[32m     56\u001b[39m     caller = func.\u001b[34m__module__\u001b[39m+\u001b[33m'\u001b[39m\u001b[33m.\u001b[39m\u001b[33m'\u001b[39m+func.\u001b[34m__name__\u001b[39m\n",
      "\u001b[36mFile \u001b[39m\u001b[32m~/Myopt/miniconda3/envs/enmt@uibcdf_3.12/lib/python3.12/site-packages/molsysmt/form/nglview_NGLWidget/to_molsysmt_Topology.py:10\u001b[39m, in \u001b[36mto_molsysmt_Topology\u001b[39m\u001b[34m(item, atom_indices, get_missing_bonds, skip_digestion)\u001b[39m\n\u001b[32m      7\u001b[39m \u001b[38;5;28;01mfrom\u001b[39;00m\u001b[38;5;250m \u001b[39m\u001b[34;01m.\u001b[39;00m\u001b[34;01m.\u001b[39;00m\u001b[34;01mstring_pdb_text\u001b[39;00m\u001b[38;5;250m \u001b[39m\u001b[38;5;28;01mimport\u001b[39;00m to_molsysmt_Topology \u001b[38;5;28;01mas\u001b[39;00m string_pdb_text_to_molsysmt_Topology\n\u001b[32m      9\u001b[39m tmp_item = to_string_pdb_text(item, skip_digestion=\u001b[38;5;28;01mTrue\u001b[39;00m)\n\u001b[32m---> \u001b[39m\u001b[32m10\u001b[39m tmp_item = \u001b[43mstring_pdb_text_to_molsysmt_Topology\u001b[49m\u001b[43m(\u001b[49m\u001b[43mtmp_item\u001b[49m\u001b[43m,\u001b[49m\u001b[43m \u001b[49m\u001b[43matom_indices\u001b[49m\u001b[43m=\u001b[49m\u001b[43matom_indices\u001b[49m\u001b[43m,\u001b[49m\n\u001b[32m     11\u001b[39m \u001b[43m                                                \u001b[49m\u001b[43mget_missing_bonds\u001b[49m\u001b[43m=\u001b[49m\u001b[43mget_missing_bonds\u001b[49m\u001b[43m,\u001b[49m\u001b[43m \u001b[49m\u001b[43mskip_digestion\u001b[49m\u001b[43m=\u001b[49m\u001b[38;5;28;43;01mTrue\u001b[39;49;00m\u001b[43m)\u001b[49m\n\u001b[32m     13\u001b[39m \u001b[38;5;28;01mreturn\u001b[39;00m tmp_item\n",
      "\u001b[36mFile \u001b[39m\u001b[32m~/Myopt/miniconda3/envs/enmt@uibcdf_3.12/lib/python3.12/site-packages/molsysmt/_private/digestion/digest.py:52\u001b[39m, in \u001b[36mdigest.<locals>.digestor.<locals>.wrapper\u001b[39m\u001b[34m(*args, **kwargs)\u001b[39m\n\u001b[32m     48\u001b[39m \u001b[38;5;129m@functools\u001b[39m.wraps(func)\n\u001b[32m     49\u001b[39m \u001b[38;5;28;01mdef\u001b[39;00m\u001b[38;5;250m \u001b[39m\u001b[34mwrapper\u001b[39m(*args, **kwargs):\n\u001b[32m     51\u001b[39m     \u001b[38;5;28;01mif\u001b[39;00m kwargs.get(\u001b[33m'\u001b[39m\u001b[33mskip_digestion\u001b[39m\u001b[33m'\u001b[39m, \u001b[38;5;28;01mFalse\u001b[39;00m):\n\u001b[32m---> \u001b[39m\u001b[32m52\u001b[39m         \u001b[38;5;28;01mreturn\u001b[39;00m \u001b[43mfunc\u001b[49m\u001b[43m(\u001b[49m\u001b[43m*\u001b[49m\u001b[43margs\u001b[49m\u001b[43m,\u001b[49m\u001b[43m \u001b[49m\u001b[43m*\u001b[49m\u001b[43m*\u001b[49m\u001b[43mkwargs\u001b[49m\u001b[43m)\u001b[49m\n\u001b[32m     54\u001b[39m     \u001b[38;5;66;03m# Define caller\u001b[39;00m\n\u001b[32m     56\u001b[39m     caller = func.\u001b[34m__module__\u001b[39m+\u001b[33m'\u001b[39m\u001b[33m.\u001b[39m\u001b[33m'\u001b[39m+func.\u001b[34m__name__\u001b[39m\n",
      "\u001b[36mFile \u001b[39m\u001b[32m~/Myopt/miniconda3/envs/enmt@uibcdf_3.12/lib/python3.12/site-packages/molsysmt/form/string_pdb_text/to_molsysmt_Topology.py:10\u001b[39m, in \u001b[36mto_molsysmt_Topology\u001b[39m\u001b[34m(item, atom_indices, get_missing_bonds, skip_digestion)\u001b[39m\n\u001b[32m      7\u001b[39m \u001b[38;5;28;01mfrom\u001b[39;00m\u001b[38;5;250m \u001b[39m\u001b[34;01m.\u001b[39;00m\u001b[34;01m.\u001b[39;00m\u001b[34;01mmolsysmt_PDBFileHandler\u001b[39;00m\u001b[38;5;250m \u001b[39m\u001b[38;5;28;01mimport\u001b[39;00m to_molsysmt_Topology \u001b[38;5;28;01mas\u001b[39;00m molsysmt_PDBFileHandler_to_molsysmt_Topology\n\u001b[32m      9\u001b[39m tmp_item = to_molsysmt_PDBFileHandler(item, skip_digestion=\u001b[38;5;28;01mTrue\u001b[39;00m)\n\u001b[32m---> \u001b[39m\u001b[32m10\u001b[39m tmp_item = \u001b[43mmolsysmt_PDBFileHandler_to_molsysmt_Topology\u001b[49m\u001b[43m(\u001b[49m\u001b[43mtmp_item\u001b[49m\u001b[43m,\u001b[49m\u001b[43m \u001b[49m\u001b[43matom_indices\u001b[49m\u001b[43m=\u001b[49m\u001b[43matom_indices\u001b[49m\u001b[43m,\u001b[49m\n\u001b[32m     11\u001b[39m \u001b[43m                                                        \u001b[49m\u001b[43mget_missing_bonds\u001b[49m\u001b[43m=\u001b[49m\u001b[43mget_missing_bonds\u001b[49m\u001b[43m,\u001b[49m\n\u001b[32m     12\u001b[39m \u001b[43m                                                        \u001b[49m\u001b[43mskip_digestion\u001b[49m\u001b[43m=\u001b[49m\u001b[38;5;28;43;01mTrue\u001b[39;49;00m\u001b[43m)\u001b[49m\n\u001b[32m     14\u001b[39m \u001b[38;5;28;01mreturn\u001b[39;00m tmp_item\n",
      "\u001b[36mFile \u001b[39m\u001b[32m~/Myopt/miniconda3/envs/enmt@uibcdf_3.12/lib/python3.12/site-packages/molsysmt/_private/digestion/digest.py:52\u001b[39m, in \u001b[36mdigest.<locals>.digestor.<locals>.wrapper\u001b[39m\u001b[34m(*args, **kwargs)\u001b[39m\n\u001b[32m     48\u001b[39m \u001b[38;5;129m@functools\u001b[39m.wraps(func)\n\u001b[32m     49\u001b[39m \u001b[38;5;28;01mdef\u001b[39;00m\u001b[38;5;250m \u001b[39m\u001b[34mwrapper\u001b[39m(*args, **kwargs):\n\u001b[32m     51\u001b[39m     \u001b[38;5;28;01mif\u001b[39;00m kwargs.get(\u001b[33m'\u001b[39m\u001b[33mskip_digestion\u001b[39m\u001b[33m'\u001b[39m, \u001b[38;5;28;01mFalse\u001b[39;00m):\n\u001b[32m---> \u001b[39m\u001b[32m52\u001b[39m         \u001b[38;5;28;01mreturn\u001b[39;00m \u001b[43mfunc\u001b[49m\u001b[43m(\u001b[49m\u001b[43m*\u001b[49m\u001b[43margs\u001b[49m\u001b[43m,\u001b[49m\u001b[43m \u001b[49m\u001b[43m*\u001b[49m\u001b[43m*\u001b[49m\u001b[43mkwargs\u001b[49m\u001b[43m)\u001b[49m\n\u001b[32m     54\u001b[39m     \u001b[38;5;66;03m# Define caller\u001b[39;00m\n\u001b[32m     56\u001b[39m     caller = func.\u001b[34m__module__\u001b[39m+\u001b[33m'\u001b[39m\u001b[33m.\u001b[39m\u001b[33m'\u001b[39m+func.\u001b[34m__name__\u001b[39m\n",
      "\u001b[36mFile \u001b[39m\u001b[32m~/Myopt/miniconda3/envs/enmt@uibcdf_3.12/lib/python3.12/site-packages/molsysmt/form/molsysmt_PDBFileHandler/to_molsysmt_Topology.py:13\u001b[39m, in \u001b[36mto_molsysmt_Topology\u001b[39m\u001b[34m(item, atom_indices, structure_indices, get_missing_bonds, skip_digestion)\u001b[39m\n\u001b[32m      7\u001b[39m \u001b[38;5;129m@digest\u001b[39m(form=\u001b[33m'\u001b[39m\u001b[33mmolsysmt.PDBFileHandler\u001b[39m\u001b[33m'\u001b[39m)\n\u001b[32m      8\u001b[39m \u001b[38;5;28;01mdef\u001b[39;00m\u001b[38;5;250m \u001b[39m\u001b[34mto_molsysmt_Topology\u001b[39m(item, atom_indices=\u001b[33m'\u001b[39m\u001b[33mall\u001b[39m\u001b[33m'\u001b[39m, structure_indices=\u001b[32m0\u001b[39m, get_missing_bonds=\u001b[38;5;28;01mTrue\u001b[39;00m,\n\u001b[32m      9\u001b[39m                          skip_digestion=\u001b[38;5;28;01mFalse\u001b[39;00m):\n\u001b[32m     11\u001b[39m     \u001b[38;5;28;01mfrom\u001b[39;00m\u001b[38;5;250m \u001b[39m\u001b[34;01m.\u001b[39;00m\u001b[34;01mto_molsysmt_MolSys\u001b[39;00m\u001b[38;5;250m \u001b[39m\u001b[38;5;28;01mimport\u001b[39;00m to_molsysmt_MolSys\n\u001b[32m---> \u001b[39m\u001b[32m13\u001b[39m     tmp_item = \u001b[43mto_molsysmt_MolSys\u001b[49m\u001b[43m(\u001b[49m\u001b[43mitem\u001b[49m\u001b[43m,\u001b[49m\u001b[43m \u001b[49m\u001b[43matom_indices\u001b[49m\u001b[43m=\u001b[49m\u001b[43matom_indices\u001b[49m\u001b[43m,\u001b[49m\u001b[43m \u001b[49m\u001b[43mstructure_indices\u001b[49m\u001b[43m=\u001b[49m\u001b[43mstructure_indices\u001b[49m\u001b[43m,\u001b[49m\n\u001b[32m     14\u001b[39m \u001b[43m                                 \u001b[49m\u001b[43mget_missing_bonds\u001b[49m\u001b[43m=\u001b[49m\u001b[43mget_missing_bonds\u001b[49m\u001b[43m,\u001b[49m\u001b[43m \u001b[49m\u001b[43mskip_digestion\u001b[49m\u001b[43m=\u001b[49m\u001b[38;5;28;43;01mTrue\u001b[39;49;00m\u001b[43m)\u001b[49m\n\u001b[32m     16\u001b[39m     \u001b[38;5;28;01mreturn\u001b[39;00m tmp_item.topology\n",
      "\u001b[36mFile \u001b[39m\u001b[32m~/Myopt/miniconda3/envs/enmt@uibcdf_3.12/lib/python3.12/site-packages/molsysmt/_private/digestion/digest.py:52\u001b[39m, in \u001b[36mdigest.<locals>.digestor.<locals>.wrapper\u001b[39m\u001b[34m(*args, **kwargs)\u001b[39m\n\u001b[32m     48\u001b[39m \u001b[38;5;129m@functools\u001b[39m.wraps(func)\n\u001b[32m     49\u001b[39m \u001b[38;5;28;01mdef\u001b[39;00m\u001b[38;5;250m \u001b[39m\u001b[34mwrapper\u001b[39m(*args, **kwargs):\n\u001b[32m     51\u001b[39m     \u001b[38;5;28;01mif\u001b[39;00m kwargs.get(\u001b[33m'\u001b[39m\u001b[33mskip_digestion\u001b[39m\u001b[33m'\u001b[39m, \u001b[38;5;28;01mFalse\u001b[39;00m):\n\u001b[32m---> \u001b[39m\u001b[32m52\u001b[39m         \u001b[38;5;28;01mreturn\u001b[39;00m \u001b[43mfunc\u001b[49m\u001b[43m(\u001b[49m\u001b[43m*\u001b[49m\u001b[43margs\u001b[49m\u001b[43m,\u001b[49m\u001b[43m \u001b[49m\u001b[43m*\u001b[49m\u001b[43m*\u001b[49m\u001b[43mkwargs\u001b[49m\u001b[43m)\u001b[49m\n\u001b[32m     54\u001b[39m     \u001b[38;5;66;03m# Define caller\u001b[39;00m\n\u001b[32m     56\u001b[39m     caller = func.\u001b[34m__module__\u001b[39m+\u001b[33m'\u001b[39m\u001b[33m.\u001b[39m\u001b[33m'\u001b[39m+func.\u001b[34m__name__\u001b[39m\n",
      "\u001b[36mFile \u001b[39m\u001b[32m~/Myopt/miniconda3/envs/enmt@uibcdf_3.12/lib/python3.12/site-packages/molsysmt/form/molsysmt_PDBFileHandler/to_molsysmt_MolSys.py:202\u001b[39m, in \u001b[36mto_molsysmt_MolSys\u001b[39m\u001b[34m(item, atom_indices, structure_indices, get_missing_bonds, skip_digestion)\u001b[39m\n\u001b[32m    198\u001b[39m \u001b[38;5;28;01mdel\u001b[39;00m(coordinates_array, box)\n\u001b[32m    200\u001b[39m \u001b[38;5;28;01mif\u001b[39;00m get_missing_bonds:\n\u001b[32m--> \u001b[39m\u001b[32m202\u001b[39m     bonds = \u001b[43m_get_missing_bonds\u001b[49m\u001b[43m(\u001b[49m\u001b[43mtmp_item\u001b[49m\u001b[43m)\u001b[49m\n\u001b[32m    203\u001b[39m     bonds = np.array(bonds)\n\u001b[32m    204\u001b[39m     tmp_item.topology.reset_bonds(n_bonds=bonds.shape[\u001b[32m0\u001b[39m])\n",
      "\u001b[36mFile \u001b[39m\u001b[32m~/Myopt/miniconda3/envs/enmt@uibcdf_3.12/lib/python3.12/site-packages/molsysmt/_private/digestion/digest.py:122\u001b[39m, in \u001b[36mdigest.<locals>.digestor.<locals>.wrapper\u001b[39m\u001b[34m(*args, **kwargs)\u001b[39m\n\u001b[32m    120\u001b[39m     \u001b[38;5;28;01mreturn\u001b[39;00m func(all_args[\u001b[33m'\u001b[39m\u001b[33mself\u001b[39m\u001b[33m'\u001b[39m], **final_args)\n\u001b[32m    121\u001b[39m \u001b[38;5;28;01melse\u001b[39;00m:\n\u001b[32m--> \u001b[39m\u001b[32m122\u001b[39m     \u001b[38;5;28;01mreturn\u001b[39;00m \u001b[43mfunc\u001b[49m\u001b[43m(\u001b[49m\u001b[43m*\u001b[49m\u001b[43m*\u001b[49m\u001b[43mfinal_args\u001b[49m\u001b[43m)\u001b[49m\n",
      "\u001b[36mFile \u001b[39m\u001b[32m~/Myopt/miniconda3/envs/enmt@uibcdf_3.12/lib/python3.12/site-packages/molsysmt/build/get_missing_bonds.py:73\u001b[39m, in \u001b[36mget_missing_bonds\u001b[39m\u001b[34m(molecular_system, selection, structure_index, max_bond_length, disulfide_bonds, disulfide_group_names, pbc, syntax, engine, sorted, skip_digestion)\u001b[39m\n\u001b[32m     71\u001b[39m         \u001b[38;5;28;01mraise\u001b[39;00m \u001b[38;5;167;01mValueError\u001b[39;00m(\u001b[33m\"\u001b[39m\u001b[33mterminal capping not recognized as C- or N-\u001b[39m\u001b[33m\"\u001b[39m)\n\u001b[32m     72\u001b[39m \u001b[38;5;28;01mcase\u001b[39;00m \u001b[33m\"\u001b[39m\u001b[33msmall molecule\u001b[39m\u001b[33m\"\u001b[39m:\n\u001b[32m---> \u001b[39m\u001b[32m73\u001b[39m     aux_bonds = \u001b[43m_bonds_in_small_molecule\u001b[49m\u001b[43m(\u001b[49m\u001b[43mgroup_name\u001b[49m\u001b[43m,\u001b[49m\u001b[43m \u001b[49m\u001b[43matom_names\u001b[49m\u001b[43m,\u001b[49m\u001b[43m \u001b[49m\u001b[43matom_indices\u001b[49m\u001b[43m,\u001b[49m\u001b[43m \u001b[49m\u001b[38;5;28;43msorted\u001b[39;49m\u001b[43m=\u001b[49m\u001b[38;5;28;43;01mFalse\u001b[39;49;00m\u001b[43m)\u001b[49m\n\u001b[32m     74\u001b[39m \u001b[38;5;28;01mcase\u001b[39;00m \u001b[33m\"\u001b[39m\u001b[33msaccharide\u001b[39m\u001b[33m\"\u001b[39m:\n\u001b[32m     75\u001b[39m     aux_bonds = _bonds_in_saccharide(group_name, atom_names, atom_indices, \u001b[38;5;28msorted\u001b[39m=\u001b[38;5;28;01mFalse\u001b[39;00m)\n",
      "\u001b[36mFile \u001b[39m\u001b[32m~/Myopt/miniconda3/envs/enmt@uibcdf_3.12/lib/python3.12/site-packages/molsysmt/element/group/small_molecule/get_bonded_atom_pairs.py:40\u001b[39m, in \u001b[36mget_bonded_atom_pairs\u001b[39m\u001b[34m(group_name, atom_names, atom_indices, sorted)\u001b[39m\n\u001b[32m     36\u001b[39m \u001b[38;5;28;01melse\u001b[39;00m:\n\u001b[32m     38\u001b[39m     \u001b[38;5;28mprint\u001b[39m(group_name, atom_names)\n\u001b[32m---> \u001b[39m\u001b[32m40\u001b[39m     \u001b[38;5;28;01mraise\u001b[39;00m \u001b[38;5;167;01mValueError\u001b[39;00m\n\u001b[32m     42\u001b[39m \u001b[38;5;28;01mif\u001b[39;00m \u001b[38;5;28msorted\u001b[39m:\n\u001b[32m     43\u001b[39m     \u001b[38;5;28;01mreturn\u001b[39;00m _sorted(bonds)\n",
      "\u001b[31mValueError\u001b[39m: "
     ]
    }
   ],
   "source": [
    "view = msm.view(molecular_system)"
   ]
  },
  {
   "cell_type": "code",
   "execution_count": 5,
   "id": "775d0397-c426-4d05-8cad-eeda3f0df7db",
   "metadata": {},
   "outputs": [
    {
     "ename": "NameError",
     "evalue": "name 'view' is not defined",
     "output_type": "error",
     "traceback": [
      "\u001b[31m---------------------------------------------------------------------------\u001b[39m",
      "\u001b[31mNameError\u001b[39m                                 Traceback (most recent call last)",
      "\u001b[36mCell\u001b[39m\u001b[36m \u001b[39m\u001b[32mIn[5]\u001b[39m\u001b[32m, line 1\u001b[39m\n\u001b[32m----> \u001b[39m\u001b[32m1\u001b[39m \u001b[43mview\u001b[49m\n",
      "\u001b[31mNameError\u001b[39m: name 'view' is not defined"
     ]
    }
   ],
   "source": [
    "view"
   ]
  },
  {
   "cell_type": "code",
   "execution_count": null,
   "id": "1fb0dea9-e6fc-40dd-97d9-06fec3a0e0c2",
   "metadata": {},
   "outputs": [],
   "source": [
    "view.add_spacefill()"
   ]
  },
  {
   "cell_type": "code",
   "execution_count": null,
   "id": "7fa1472f-504d-4b8e-9cc9-336d21c49887",
   "metadata": {},
   "outputs": [],
   "source": [
    "molecular_system= msm.build.make_bioassembly(molecular_system)"
   ]
  },
  {
   "cell_type": "code",
   "execution_count": null,
   "id": "ed039041-a355-449d-b663-5ea43386e2d8",
   "metadata": {},
   "outputs": [],
   "source": [
    "view = msm.view(molecular_system)"
   ]
  },
  {
   "cell_type": "code",
   "execution_count": null,
   "id": "38fddeca-d23e-4bed-8ea1-f237293c3e5a",
   "metadata": {},
   "outputs": [],
   "source": [
    "anm = oenm.AnisotropicNetworkModel(molecular_system, selection='atom_name==\"CA\"', cutoff='10 angstroms')"
   ]
  },
  {
   "cell_type": "code",
   "execution_count": null,
   "id": "8af73be8-9c46-4387-aac9-9e637263075d",
   "metadata": {},
   "outputs": [],
   "source": [
    "view = anm.view_mode(mode=1)"
   ]
  },
  {
   "cell_type": "code",
   "execution_count": null,
   "id": "259a2012-e461-4203-90cf-36a86f7f3789",
   "metadata": {},
   "outputs": [],
   "source": [
    "view.add_surface(opacity=0.5)"
   ]
  },
  {
   "cell_type": "code",
   "execution_count": null,
   "id": "6b8f4948-d311-4330-a211-0cfa6b6732ee",
   "metadata": {},
   "outputs": [],
   "source": [
    "view"
   ]
  },
  {
   "cell_type": "code",
   "execution_count": null,
   "id": "51c09e8d-5470-4e86-b0d4-e6e846a0529c",
   "metadata": {},
   "outputs": [],
   "source": []
  }
 ],
 "metadata": {
  "kernelspec": {
   "display_name": "Python 3 (ipykernel)",
   "language": "python",
   "name": "python3"
  },
  "language_info": {
   "codemirror_mode": {
    "name": "ipython",
    "version": 3
   },
   "file_extension": ".py",
   "mimetype": "text/x-python",
   "name": "python",
   "nbconvert_exporter": "python",
   "pygments_lexer": "ipython3",
   "version": "3.12.11"
  }
 },
 "nbformat": 4,
 "nbformat_minor": 5
}
