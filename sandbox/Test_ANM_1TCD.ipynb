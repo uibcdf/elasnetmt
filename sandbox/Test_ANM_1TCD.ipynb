{
 "cells": [
  {
   "cell_type": "markdown",
   "id": "c23af330-9d57-4d84-ad80-4155b2cc24bd",
   "metadata": {},
   "source": [
    "# Test ANM 1TCD"
   ]
  },
  {
   "cell_type": "code",
   "execution_count": 1,
   "id": "aca2834e-f8f2-4521-a617-da27dc4f4972",
   "metadata": {},
   "outputs": [
    {
     "data": {
      "application/vnd.jupyter.widget-view+json": {
       "model_id": "b2447ba6d0b2400590787d8593a153ee",
       "version_major": 2,
       "version_minor": 0
      },
      "text/plain": []
     },
     "metadata": {},
     "output_type": "display_data"
    },
    {
     "name": "stderr",
     "output_type": "stream",
     "text": [
      "/home/diego/Myopt/miniconda3/envs/enmt@uibcdf_3.12/lib/python3.12/site-packages/nglview/__init__.py:12: UserWarning: pkg_resources is deprecated as an API. See https://setuptools.pypa.io/en/latest/pkg_resources.html. The pkg_resources package is slated for removal as early as 2025-11-30. Refrain from using this package or pin to Setuptools<81.\n",
      "  import pkg_resources\n"
     ]
    }
   ],
   "source": [
    "import molsysmt as msm\n",
    "import elasnetmt as enm"
   ]
  },
  {
   "cell_type": "code",
   "execution_count": 2,
   "id": "d13c758d-81a4-4c09-83e6-42afc572cb5f",
   "metadata": {},
   "outputs": [],
   "source": [
    "molecular_system = msm.convert('1TCD', selection='molecule_type==\"protein\"')"
   ]
  },
  {
   "cell_type": "code",
   "execution_count": 3,
   "id": "a9c714f0-ea1f-467a-a6f6-98c9f6d33159",
   "metadata": {},
   "outputs": [
    {
     "data": {
      "text/html": [
       "<style type=\"text/css\">\n",
       "</style>\n",
       "<table id=\"T_d54ac\">\n",
       "  <thead>\n",
       "    <tr>\n",
       "      <th id=\"T_d54ac_level0_col0\" class=\"col_heading level0 col0\" >form</th>\n",
       "      <th id=\"T_d54ac_level0_col1\" class=\"col_heading level0 col1\" >n_atoms</th>\n",
       "      <th id=\"T_d54ac_level0_col2\" class=\"col_heading level0 col2\" >n_groups</th>\n",
       "      <th id=\"T_d54ac_level0_col3\" class=\"col_heading level0 col3\" >n_components</th>\n",
       "      <th id=\"T_d54ac_level0_col4\" class=\"col_heading level0 col4\" >n_chains</th>\n",
       "      <th id=\"T_d54ac_level0_col5\" class=\"col_heading level0 col5\" >n_molecules</th>\n",
       "      <th id=\"T_d54ac_level0_col6\" class=\"col_heading level0 col6\" >n_entities</th>\n",
       "      <th id=\"T_d54ac_level0_col7\" class=\"col_heading level0 col7\" >n_proteins</th>\n",
       "      <th id=\"T_d54ac_level0_col8\" class=\"col_heading level0 col8\" >n_structures</th>\n",
       "    </tr>\n",
       "  </thead>\n",
       "  <tbody>\n",
       "    <tr>\n",
       "      <td id=\"T_d54ac_row0_col0\" class=\"data row0 col0\" >molsysmt.MolSys</td>\n",
       "      <td id=\"T_d54ac_row0_col1\" class=\"data row0 col1\" >3818</td>\n",
       "      <td id=\"T_d54ac_row0_col2\" class=\"data row0 col2\" >497</td>\n",
       "      <td id=\"T_d54ac_row0_col3\" class=\"data row0 col3\" >2</td>\n",
       "      <td id=\"T_d54ac_row0_col4\" class=\"data row0 col4\" >2</td>\n",
       "      <td id=\"T_d54ac_row0_col5\" class=\"data row0 col5\" >2</td>\n",
       "      <td id=\"T_d54ac_row0_col6\" class=\"data row0 col6\" >1</td>\n",
       "      <td id=\"T_d54ac_row0_col7\" class=\"data row0 col7\" >2</td>\n",
       "      <td id=\"T_d54ac_row0_col8\" class=\"data row0 col8\" >1</td>\n",
       "    </tr>\n",
       "  </tbody>\n",
       "</table>\n"
      ],
      "text/plain": [
       "<pandas.io.formats.style.Styler at 0x7c2896bf7800>"
      ]
     },
     "execution_count": 3,
     "metadata": {},
     "output_type": "execute_result"
    }
   ],
   "source": [
    "msm.info(molecular_system)"
   ]
  },
  {
   "cell_type": "code",
   "execution_count": 4,
   "id": "20d16a9a-9396-4163-89f2-57090cf47a46",
   "metadata": {},
   "outputs": [],
   "source": [
    "anm = enm.AnisotropicNetworkModel(molecular_system, selection='atom_name==\"CA\"', cutoff='10 angstroms')"
   ]
  },
  {
   "cell_type": "code",
   "execution_count": 5,
   "id": "4646bed4-e6b4-43a5-917b-b2001ad51369",
   "metadata": {},
   "outputs": [
    {
     "data": {
      "image/png": "[encoded data removed]",
      "text/plain": [
       "<Figure size 480x480 with 1 Axes>"
      ]
     },
     "metadata": {},
     "output_type": "display_data"
    }
   ],
   "source": [
    "anm.show_contact_map()"
   ]
  },
  {
   "cell_type": "code",
   "execution_count": null,
   "id": "0de52d97-aed3-4427-9915-518a0077dbd8",
   "metadata": {},
   "outputs": [],
   "source": [
    "view = anm.view_mode(mode=1, arrows=True)"
   ]
  },
  {
   "cell_type": "code",
   "execution_count": null,
   "id": "0bdb94d8-e316-4997-8637-bbf6d7491379",
   "metadata": {},
   "outputs": [],
   "source": [
    "view"
   ]
  }
 ],
 "metadata": {
  "kernelspec": {
   "display_name": "Python 3 (ipykernel)",
   "language": "python",
   "name": "python3"
  },
  "language_info": {
   "codemirror_mode": {
    "name": "ipython",
    "version": 3
   },
   "file_extension": ".py",
   "mimetype": "text/x-python",
   "name": "python",
   "nbconvert_exporter": "python",
   "pygments_lexer": "ipython3",
   "version": "3.12.11"
  }
 },
 "nbformat": 4,
 "nbformat_minor": 5
}
