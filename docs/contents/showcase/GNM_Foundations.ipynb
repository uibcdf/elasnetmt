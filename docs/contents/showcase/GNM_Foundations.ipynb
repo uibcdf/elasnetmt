{
 "cells": [
  {
   "cell_type": "markdown",
   "id": "b46caa94-a1ad-44d8-98b4-70cef0dead03",
   "metadata": {},
   "source": [
    "# GNM Foundations: Reproducing the 1997 Paper"
   ]
  },
  {
   "cell_type": "markdown",
   "id": "cdf20eac-1e28-4284-b838-2ed70fb02c43",
   "metadata": {},
   "source": [
    "Aclarar que 1LTT es el que ahora está en la referencia, si bien parece que el cuadro indica que 1LTS."
   ]
  },
  {
   "cell_type": "code",
   "execution_count": 2,
   "id": "9be16d89-ed64-4f99-865d-a3bf1e75961f",
   "metadata": {},
   "outputs": [],
   "source": [
    "pdbs = {\n",
    "    '1LTS' : 'chain_id==\"G\"', #'original subunit C -> chain id G' # mal\n",
    "    '1CRN' : 'all', # bien\n",
    "    '1PTI' : 'all',\n",
    "    '1ABA' : 'all',\n",
    "    '1VAA' : 'chain_id==\"B\"', #'original subunit B -> chain id B'\n",
    "    '1THO' : 'all',\n",
    "    '5RSA' : 'all',\n",
    "    '2CCY' : 'chain_id==\"A\"', #'original subunit A -> chain id A'\n",
    "    '3LZM' : 'all',\n",
    "    '1ULA' : 'all',\n",
    "    '1OMF' : 'all',\n",
    "    '1ATN' : 'chain_id==\"A\"' #'original subunit A -> chain id A'\n",
    "}"
   ]
  },
  {
   "cell_type": "code",
   "execution_count": 4,
   "id": "20663961-3c8f-4c96-8c93-e3599c348e91",
   "metadata": {},
   "outputs": [],
   "source": [
    "pdbs_list = list(pdbs)"
   ]
  },
  {
   "cell_type": "code",
   "execution_count": 7,
   "id": "c8b03482-0f73-47ec-8237-0a7c98c8fb2c",
   "metadata": {},
   "outputs": [
    {
     "data": {
      "application/vnd.jupyter.widget-view+json": {
       "model_id": "fd5aeaeabdf24efe929f08721c5ed7c4",
       "version_major": 2,
       "version_minor": 0
      },
      "text/plain": []
     },
     "metadata": {},
     "output_type": "display_data"
    },
    {
     "name": "stderr",
     "output_type": "stream",
     "text": [
      "/home/diego/Myopt/miniconda3/envs/enmt@uibcdf_3.12/lib/python3.12/site-packages/nglview/__init__.py:12: UserWarning: pkg_resources is deprecated as an API. See https://setuptools.pypa.io/en/latest/pkg_resources.html. The pkg_resources package is slated for removal as early as 2025-11-30. Refrain from using this package or pin to Setuptools<81.\n",
      "  import pkg_resources\n"
     ]
    }
   ],
   "source": [
    "import molsysmt as msm"
   ]
  },
  {
   "cell_type": "code",
   "execution_count": 9,
   "id": "6b0f5310-d112-42cc-aa2c-2b9c50b52789",
   "metadata": {},
   "outputs": [
    {
     "ename": "KeyError",
     "evalue": "'ALA'",
     "output_type": "error",
     "traceback": [
      "\u001b[31m---------------------------------------------------------------------------\u001b[39m",
      "\u001b[31mKeyError\u001b[39m                                  Traceback (most recent call last)",
      "\u001b[36mCell\u001b[39m\u001b[36m \u001b[39m\u001b[32mIn[9]\u001b[39m\u001b[32m, line 1\u001b[39m\n\u001b[32m----> \u001b[39m\u001b[32m1\u001b[39m molsys = \u001b[43mmsm\u001b[49m\u001b[43m.\u001b[49m\u001b[43mconvert\u001b[49m\u001b[43m(\u001b[49m\u001b[43mpdbs_list\u001b[49m\u001b[43m[\u001b[49m\u001b[32;43m0\u001b[39;49m\u001b[43m]\u001b[49m\u001b[43m)\u001b[49m\n",
      "\u001b[36mFile \u001b[39m\u001b[32m~/Myopt/miniconda3/envs/enmt@uibcdf_3.12/lib/python3.12/site-packages/molsysmt/_private/digestion/digest.py:122\u001b[39m, in \u001b[36mdigest.<locals>.digestor.<locals>.wrapper\u001b[39m\u001b[34m(*args, **kwargs)\u001b[39m\n\u001b[32m    120\u001b[39m     \u001b[38;5;28;01mreturn\u001b[39;00m func(all_args[\u001b[33m'\u001b[39m\u001b[33mself\u001b[39m\u001b[33m'\u001b[39m], **final_args)\n\u001b[32m    121\u001b[39m \u001b[38;5;28;01melse\u001b[39;00m:\n\u001b[32m--> \u001b[39m\u001b[32m122\u001b[39m     \u001b[38;5;28;01mreturn\u001b[39;00m \u001b[43mfunc\u001b[49m\u001b[43m(\u001b[49m\u001b[43m*\u001b[49m\u001b[43m*\u001b[49m\u001b[43mfinal_args\u001b[49m\u001b[43m)\u001b[49m\n",
      "\u001b[36mFile \u001b[39m\u001b[32m~/Myopt/miniconda3/envs/enmt@uibcdf_3.12/lib/python3.12/site-packages/molsysmt/basic/convert.py:515\u001b[39m, in \u001b[36mconvert\u001b[39m\u001b[34m(molecular_system, to_form, selection, structure_indices, syntax, skip_digestion, **kwargs)\u001b[39m\n\u001b[32m    513\u001b[39m \u001b[38;5;66;03m# If one to one\u001b[39;00m\n\u001b[32m    514\u001b[39m \u001b[38;5;28;01mif\u001b[39;00m \u001b[38;5;129;01mnot\u001b[39;00m \u001b[38;5;28misinstance\u001b[39m(from_form, (\u001b[38;5;28mlist\u001b[39m, \u001b[38;5;28mtuple\u001b[39m)):\n\u001b[32m--> \u001b[39m\u001b[32m515\u001b[39m     output = \u001b[43m_convert_one_to_one\u001b[49m\u001b[43m(\u001b[49m\u001b[43mmolecular_system\u001b[49m\u001b[43m,\u001b[49m\u001b[43m \u001b[49m\u001b[43mfrom_form\u001b[49m\u001b[43m,\u001b[49m\u001b[43m \u001b[49m\u001b[43mto_form\u001b[49m\u001b[43m=\u001b[49m\u001b[43mto_form\u001b[49m\u001b[43m,\u001b[49m\u001b[43m \u001b[49m\u001b[43mselection\u001b[49m\u001b[43m=\u001b[49m\u001b[43mselection\u001b[49m\u001b[43m,\u001b[49m\u001b[43m \u001b[49m\u001b[43mstructure_indices\u001b[49m\u001b[43m=\u001b[49m\u001b[43mstructure_indices\u001b[49m\u001b[43m,\u001b[49m\n\u001b[32m    516\u001b[39m \u001b[43m            \u001b[49m\u001b[43msyntax\u001b[49m\u001b[43m=\u001b[49m\u001b[43msyntax\u001b[49m\u001b[43m,\u001b[49m\u001b[43m \u001b[49m\u001b[43mskip_digestion\u001b[49m\u001b[43m=\u001b[49m\u001b[38;5;28;43;01mTrue\u001b[39;49;00m\u001b[43m,\u001b[49m\u001b[43m \u001b[49m\u001b[43m*\u001b[49m\u001b[43m*\u001b[49m\u001b[43mkwargs\u001b[49m\u001b[43m)\u001b[49m\n\u001b[32m    518\u001b[39m \u001b[38;5;66;03m# If multiple to one\u001b[39;00m\n\u001b[32m    519\u001b[39m \n\u001b[32m    520\u001b[39m \u001b[38;5;28;01melse\u001b[39;00m:\n\u001b[32m    521\u001b[39m \n\u001b[32m    522\u001b[39m     \u001b[38;5;66;03m# conversions in private shortcuts\u001b[39;00m\n\u001b[32m    523\u001b[39m     \u001b[38;5;28;01mif\u001b[39;00m \u001b[38;5;28mtuple\u001b[39m(\u001b[38;5;28msorted\u001b[39m(from_form)) \u001b[38;5;129;01min\u001b[39;00m _multiple_conversion_shortcuts:\n",
      "\u001b[36mFile \u001b[39m\u001b[32m~/Myopt/miniconda3/envs/enmt@uibcdf_3.12/lib/python3.12/site-packages/molsysmt/basic/convert.py:93\u001b[39m, in \u001b[36m_convert_one_to_one\u001b[39m\u001b[34m(molecular_system, from_form, to_form, selection, structure_indices, syntax, **kwargs)\u001b[39m\n\u001b[32m     90\u001b[39m         \u001b[38;5;28;01mif\u001b[39;00m \u001b[38;5;28mlen\u001b[39m(missing_arguments)>\u001b[32m0\u001b[39m:\n\u001b[32m     91\u001b[39m             \u001b[38;5;28;01mraise\u001b[39;00m NotCompatibleConversionError(from_form, to_form, missing_arguments)\n\u001b[32m---> \u001b[39m\u001b[32m93\u001b[39m     output = \u001b[43mfunction\u001b[49m\u001b[43m(\u001b[49m\u001b[43mmolecular_system\u001b[49m\u001b[43m,\u001b[49m\u001b[43m \u001b[49m\u001b[43m*\u001b[49m\u001b[43m*\u001b[49m\u001b[43mconversion_arguments\u001b[49m\u001b[43m,\u001b[49m\u001b[43m \u001b[49m\u001b[43m*\u001b[49m\u001b[43m*\u001b[49m\u001b[43mkwargs\u001b[49m\u001b[43m)\u001b[49m\n\u001b[32m     95\u001b[39m \u001b[38;5;28;01melif\u001b[39;00m (\u001b[33m'\u001b[39m\u001b[33mmolsysmt.MolSys\u001b[39m\u001b[33m'\u001b[39m \u001b[38;5;129;01min\u001b[39;00m _dict_modules[from_form]._convert_to) \u001b[38;5;129;01mand\u001b[39;00m (to_form \u001b[38;5;129;01min\u001b[39;00m _dict_modules[\u001b[33m'\u001b[39m\u001b[33mmolsysmt.MolSys\u001b[39m\u001b[33m'\u001b[39m]._convert_to):\n\u001b[32m     97\u001b[39m     output = _convert_one_to_one(molecular_system, from_form, to_form=\u001b[33m'\u001b[39m\u001b[33mmolsysmt.MolSys\u001b[39m\u001b[33m'\u001b[39m, selection=selection,\n\u001b[32m     98\u001b[39m             structure_indices=structure_indices, syntax=syntax, **kwargs)\n",
      "\u001b[36mFile \u001b[39m\u001b[32m~/Myopt/miniconda3/envs/enmt@uibcdf_3.12/lib/python3.12/site-packages/molsysmt/_private/digestion/digest.py:52\u001b[39m, in \u001b[36mdigest.<locals>.digestor.<locals>.wrapper\u001b[39m\u001b[34m(*args, **kwargs)\u001b[39m\n\u001b[32m     48\u001b[39m \u001b[38;5;129m@functools\u001b[39m.wraps(func)\n\u001b[32m     49\u001b[39m \u001b[38;5;28;01mdef\u001b[39;00m\u001b[38;5;250m \u001b[39m\u001b[34mwrapper\u001b[39m(*args, **kwargs):\n\u001b[32m     51\u001b[39m     \u001b[38;5;28;01mif\u001b[39;00m kwargs.get(\u001b[33m'\u001b[39m\u001b[33mskip_digestion\u001b[39m\u001b[33m'\u001b[39m, \u001b[38;5;28;01mFalse\u001b[39;00m):\n\u001b[32m---> \u001b[39m\u001b[32m52\u001b[39m         \u001b[38;5;28;01mreturn\u001b[39;00m \u001b[43mfunc\u001b[49m\u001b[43m(\u001b[49m\u001b[43m*\u001b[49m\u001b[43margs\u001b[49m\u001b[43m,\u001b[49m\u001b[43m \u001b[49m\u001b[43m*\u001b[49m\u001b[43m*\u001b[49m\u001b[43mkwargs\u001b[49m\u001b[43m)\u001b[49m\n\u001b[32m     54\u001b[39m     \u001b[38;5;66;03m# Define caller\u001b[39;00m\n\u001b[32m     56\u001b[39m     caller = func.\u001b[34m__module__\u001b[39m+\u001b[33m'\u001b[39m\u001b[33m.\u001b[39m\u001b[33m'\u001b[39m+func.\u001b[34m__name__\u001b[39m\n",
      "\u001b[36mFile \u001b[39m\u001b[32m~/Myopt/miniconda3/envs/enmt@uibcdf_3.12/lib/python3.12/site-packages/molsysmt/form/string_pdb_id/to_molsysmt_MolSys.py:10\u001b[39m, in \u001b[36mto_molsysmt_MolSys\u001b[39m\u001b[34m(item, atom_indices, structure_indices, skip_digestion)\u001b[39m\n\u001b[32m      7\u001b[39m \u001b[38;5;28;01mfrom\u001b[39;00m\u001b[38;5;250m \u001b[39m\u001b[34;01m.\u001b[39;00m\u001b[34;01m.\u001b[39;00m\u001b[34;01mmmcif_PdbxContainers_DataContainer\u001b[39;00m\u001b[38;5;250m \u001b[39m\u001b[38;5;28;01mimport\u001b[39;00m to_molsysmt_MolSys \u001b[38;5;28;01mas\u001b[39;00m mmcif_PdbxContainers_DataContainer_to_molsysmt_MolSys\n\u001b[32m      9\u001b[39m tmp_item = to_mmcif_PdbxContainers_DataContainer(item, skip_digestion=\u001b[38;5;28;01mTrue\u001b[39;00m)\n\u001b[32m---> \u001b[39m\u001b[32m10\u001b[39m tmp_item = \u001b[43mmmcif_PdbxContainers_DataContainer_to_molsysmt_MolSys\u001b[49m\u001b[43m(\u001b[49m\u001b[43mtmp_item\u001b[49m\u001b[43m,\u001b[49m\u001b[43m \u001b[49m\u001b[43matom_indices\u001b[49m\u001b[43m=\u001b[49m\u001b[43matom_indices\u001b[49m\u001b[43m,\u001b[49m\n\u001b[32m     11\u001b[39m \u001b[43m                                               \u001b[49m\u001b[43mstructure_indices\u001b[49m\u001b[43m=\u001b[49m\u001b[43mstructure_indices\u001b[49m\u001b[43m,\u001b[49m\u001b[43m \u001b[49m\u001b[43mskip_digestion\u001b[49m\u001b[43m=\u001b[49m\u001b[38;5;28;43;01mTrue\u001b[39;49;00m\u001b[43m)\u001b[49m\n\u001b[32m     13\u001b[39m \u001b[38;5;28;01mreturn\u001b[39;00m tmp_item\n",
      "\u001b[36mFile \u001b[39m\u001b[32m~/Myopt/miniconda3/envs/enmt@uibcdf_3.12/lib/python3.12/site-packages/molsysmt/_private/digestion/digest.py:52\u001b[39m, in \u001b[36mdigest.<locals>.digestor.<locals>.wrapper\u001b[39m\u001b[34m(*args, **kwargs)\u001b[39m\n\u001b[32m     48\u001b[39m \u001b[38;5;129m@functools\u001b[39m.wraps(func)\n\u001b[32m     49\u001b[39m \u001b[38;5;28;01mdef\u001b[39;00m\u001b[38;5;250m \u001b[39m\u001b[34mwrapper\u001b[39m(*args, **kwargs):\n\u001b[32m     51\u001b[39m     \u001b[38;5;28;01mif\u001b[39;00m kwargs.get(\u001b[33m'\u001b[39m\u001b[33mskip_digestion\u001b[39m\u001b[33m'\u001b[39m, \u001b[38;5;28;01mFalse\u001b[39;00m):\n\u001b[32m---> \u001b[39m\u001b[32m52\u001b[39m         \u001b[38;5;28;01mreturn\u001b[39;00m \u001b[43mfunc\u001b[49m\u001b[43m(\u001b[49m\u001b[43m*\u001b[49m\u001b[43margs\u001b[49m\u001b[43m,\u001b[49m\u001b[43m \u001b[49m\u001b[43m*\u001b[49m\u001b[43m*\u001b[49m\u001b[43mkwargs\u001b[49m\u001b[43m)\u001b[49m\n\u001b[32m     54\u001b[39m     \u001b[38;5;66;03m# Define caller\u001b[39;00m\n\u001b[32m     56\u001b[39m     caller = func.\u001b[34m__module__\u001b[39m+\u001b[33m'\u001b[39m\u001b[33m.\u001b[39m\u001b[33m'\u001b[39m+func.\u001b[34m__name__\u001b[39m\n",
      "\u001b[36mFile \u001b[39m\u001b[32m~/Myopt/miniconda3/envs/enmt@uibcdf_3.12/lib/python3.12/site-packages/molsysmt/form/mmcif_PdbxContainers_DataContainer/to_molsysmt_MolSys.py:301\u001b[39m, in \u001b[36mto_molsysmt_MolSys\u001b[39m\u001b[34m(item, atom_indices, structure_indices, skip_digestion)\u001b[39m\n\u001b[32m    299\u001b[39m \u001b[38;5;28;01mif\u001b[39;00m aux == -\u001b[32m1\u001b[39m:\n\u001b[32m    300\u001b[39m     group_name = group_name_array[group_index]\n\u001b[32m--> \u001b[39m\u001b[32m301\u001b[39m     entity_id = \u001b[43mgroup_name_to_entity_id\u001b[49m\u001b[43m[\u001b[49m\u001b[43mgroup_name\u001b[49m\u001b[43m]\u001b[49m\n\u001b[32m    302\u001b[39m     entity_index = entity_dict[entity_id][\u001b[33m'\u001b[39m\u001b[33mentity_index\u001b[39m\u001b[33m'\u001b[39m]\n\u001b[32m    303\u001b[39m     molecule_index_array[group_index] = molecule_index\n",
      "\u001b[31mKeyError\u001b[39m: 'ALA'"
     ]
    }
   ],
   "source": [
    "molsys = msm.convert(pdbs_list[0])"
   ]
  },
  {
   "cell_type": "code",
   "execution_count": null,
   "id": "ce873784-4158-4eaf-ad26-88a7bc0b3869",
   "metadata": {},
   "outputs": [],
   "source": []
  }
 ],
 "metadata": {
  "kernelspec": {
   "display_name": "Python 3 (ipykernel)",
   "language": "python",
   "name": "python3"
  },
  "language_info": {
   "codemirror_mode": {
    "name": "ipython",
    "version": 3
   },
   "file_extension": ".py",
   "mimetype": "text/x-python",
   "name": "python",
   "nbconvert_exporter": "python",
   "pygments_lexer": "ipython3",
   "version": "3.12.11"
  }
 },
 "nbformat": 4,
 "nbformat_minor": 5
}
