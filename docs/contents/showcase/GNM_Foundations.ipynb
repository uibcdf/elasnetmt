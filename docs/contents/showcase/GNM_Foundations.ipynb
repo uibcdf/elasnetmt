{
 "cells": [
  {
   "cell_type": "markdown",
   "id": "b46caa94-a1ad-44d8-98b4-70cef0dead03",
   "metadata": {},
   "source": [
    "# GNM Foundations: Reproducing the 1997 Paper"
   ]
  },
  {
   "cell_type": "code",
   "execution_count": null,
   "id": "3e46c676-b931-4a80-9dfd-7857f0ff2fb5",
   "metadata": {},
   "outputs": [],
   "source": [
    "Aclarar que 1LTT es el que ahora está en la referencia, si bien parecería que 1LTS."
   ]
  },
  {
   "cell_type": "code",
   "execution_count": 2,
   "id": "9be16d89-ed64-4f99-865d-a3bf1e75961f",
   "metadata": {},
   "outputs": [],
   "source": [
    "pdbs = {\n",
    "    '1LTT' : 'chain_id==\"G\"', #'original subunit C -> chain id G'\n",
    "    '1CRN' : 'all',\n",
    "    '1PTI' : 'all',\n",
    "    '1ABA' : 'all',\n",
    "    '1VAA' : 'chain_id==\"B\"', #'original subunit B -> chain id B'\n",
    "    '1THO' : 'all',\n",
    "    '5RSA' : 'all',\n",
    "    '2CCY' : 'chain_id==\"A\"', #'original subunit A -> chain id A'\n",
    "    '3LZM' : 'all',\n",
    "    '1ULA' : 'all',\n",
    "    '1OMF' : 'all',\n",
    "    '1ATN' : 'chain_id==\"A\"' #'original subunit A -> chain id A'\n",
    "}"
   ]
  },
  {
   "cell_type": "code",
   "execution_count": 3,
   "id": "20663961-3c8f-4c96-8c93-e3599c348e91",
   "metadata": {},
   "outputs": [
    {
     "data": {
      "text/plain": [
       "12"
      ]
     },
     "execution_count": 3,
     "metadata": {},
     "output_type": "execute_result"
    }
   ],
   "source": [
    "len(pdbs)"
   ]
  },
  {
   "cell_type": "code",
   "execution_count": null,
   "id": "6b0f5310-d112-42cc-aa2c-2b9c50b52789",
   "metadata": {},
   "outputs": [],
   "source": []
  }
 ],
 "metadata": {
  "kernelspec": {
   "display_name": "Python 3 (ipykernel)",
   "language": "python",
   "name": "python3"
  },
  "language_info": {
   "codemirror_mode": {
    "name": "ipython",
    "version": 3
   },
   "file_extension": ".py",
   "mimetype": "text/x-python",
   "name": "python",
   "nbconvert_exporter": "python",
   "pygments_lexer": "ipython3",
   "version": "3.12.11"
  }
 },
 "nbformat": 4,
 "nbformat_minor": 5
}
